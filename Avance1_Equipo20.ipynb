{
  "metadata": {
    "kernelspec": {
      "language": "python",
      "display_name": "Python 3",
      "name": "python3"
    },
    "language_info": {
      "pygments_lexer": "ipython3",
      "nbconvert_exporter": "python",
      "version": "3.6.4",
      "file_extension": ".py",
      "codemirror_mode": {
        "name": "ipython",
        "version": 3
      },
      "name": "python",
      "mimetype": "text/x-python"
    },
    "colab": {
      "provenance": [],
      "include_colab_link": true
    }
  },
  "nbformat_minor": 0,
  "nbformat": 4,
  "cells": [
    {
      "cell_type": "markdown",
      "metadata": {
        "id": "view-in-github",
        "colab_type": "text"
      },
      "source": [
        "<a href=\"https://colab.research.google.com/github/SinaiAvalos/Equipo20/blob/main/Avance1_Equipo20.ipynb\" target=\"_parent\"><img src=\"https://colab.research.google.com/assets/colab-badge.svg\" alt=\"Open In Colab\"/></a>"
      ]
    },
    {
      "cell_type": "markdown",
      "source": [
        "Nombre del Trabajo:\n",
        "AI for Good: Human Heritage\n",
        "Automatic pre-Hispanic to Spanish Recogniser and Translator\n",
        "\n",
        "\n",
        "Nombre del asesor del proyecto: Dr. Juan Arturo Nolazco Flores\n",
        "\n",
        "Equipo: 20\n",
        "Nombre de alumnos:\n",
        " * Juan Carlos Garza Sanchez\tA00821522\n",
        " * Sinaí Avalos Rivera \t\t\tA01730466\n"
      ],
      "metadata": {
        "id": "ri1bEjiZr5xo"
      }
    },
    {
      "cell_type": "code",
      "source": [
        "import pandas as pd\n",
        "import numpy as np\n",
        "import matplotlib.pyplot as plt\n",
        "import seaborn as sns\n",
        "from collections import Counter"
      ],
      "metadata": {
        "id": "UjNKEHTJMWTt"
      },
      "execution_count": null,
      "outputs": []
    },
    {
      "cell_type": "code",
      "source": [
        "df = pd.read_csv(\"hf://datasets/somosnlp-hackathon-2022/Axolotl-Spanish-Nahuatl/train.csv\")\n",
        "df = df[['sp', 'nah']].rename(columns={'sp': 'spanish', 'nah': 'nahuatl'})\n",
        "df"
      ],
      "metadata": {
        "execution": {
          "iopub.status.busy": "2022-06-19T15:22:02.005801Z",
          "iopub.execute_input": "2022-06-19T15:22:02.00629Z",
          "iopub.status.idle": "2022-06-19T15:22:02.152264Z",
          "shell.execute_reply.started": "2022-06-19T15:22:02.006254Z",
          "shell.execute_reply": "2022-06-19T15:22:02.151081Z"
        },
        "trusted": true,
        "colab": {
          "base_uri": "https://localhost:8080/",
          "height": 424
        },
        "id": "WqK8jBGIPtkM",
        "outputId": "cf2b8df7-5e04-445f-899b-33db882789b8"
      },
      "execution_count": null,
      "outputs": [
        {
          "output_type": "execute_result",
          "data": {
            "text/plain": [
              "                                                 spanish  \\\n",
              "0      Y así, cuando hizo su ofrenda de fuego, se sie...   \n",
              "1      ¿Si es jade, si es oro, acaso no tendrá que ir...   \n",
              "2      Y cuando el Sol estuvo solo en el cielo, enseg...   \n",
              "3      Allá acudieron asimismo los señores del cabild...   \n",
              "4                                                  Usos:   \n",
              "...                                                  ...   \n",
              "20023   El Espíritu y la esposa dicen: \"¡Ven!\"El que ...   \n",
              "20024   Yo advierto a todo el que oye las palabras de...   \n",
              "20025   y si alguno quita de las palabras del libro d...   \n",
              "20026   El que da testimonio de estas cosas dice: \"¡S...   \n",
              "20027     La gracia de nuestro Señor Jesús sea con todos   \n",
              "\n",
              "                                                 nahuatl  \n",
              "0      Auh in ye yuhqui in on tlenamacac niman ye ic ...  \n",
              "1      ¿In chalchihuitl, teocuitlatl, mach ah ca on yaz?  \n",
              "2      Auh yn oyuh in yoca hualmotlalli tonatiuh ylhu...  \n",
              "3      Yn oncan mohuicatza yhuan yn ciudad cabildo tl...  \n",
              "4                                               Kualtia:  \n",
              "...                                                  ...  \n",
              "20023  On Espíritu Santo niman isihuau on Borreguito ...  \n",
              "20024  Nemechtlachicahuilia nenmochimej yejhuan nenqu...  \n",
              "20025  Niman tla yacaj quipopolohuilis itemachtil Dio...  \n",
              "20026  On yejhuan quipantlantia yejhua in, ijquin qui...  \n",
              "20027  Ma toTeco Jesucristo mechtiochihua nenmochimej...  \n",
              "\n",
              "[20028 rows x 2 columns]"
            ],
            "text/html": [
              "\n",
              "  <div id=\"df-dfa91f63-b195-403d-9026-1a17af8656c3\" class=\"colab-df-container\">\n",
              "    <div>\n",
              "<style scoped>\n",
              "    .dataframe tbody tr th:only-of-type {\n",
              "        vertical-align: middle;\n",
              "    }\n",
              "\n",
              "    .dataframe tbody tr th {\n",
              "        vertical-align: top;\n",
              "    }\n",
              "\n",
              "    .dataframe thead th {\n",
              "        text-align: right;\n",
              "    }\n",
              "</style>\n",
              "<table border=\"1\" class=\"dataframe\">\n",
              "  <thead>\n",
              "    <tr style=\"text-align: right;\">\n",
              "      <th></th>\n",
              "      <th>spanish</th>\n",
              "      <th>nahuatl</th>\n",
              "    </tr>\n",
              "  </thead>\n",
              "  <tbody>\n",
              "    <tr>\n",
              "      <th>0</th>\n",
              "      <td>Y así, cuando hizo su ofrenda de fuego, se sie...</td>\n",
              "      <td>Auh in ye yuhqui in on tlenamacac niman ye ic ...</td>\n",
              "    </tr>\n",
              "    <tr>\n",
              "      <th>1</th>\n",
              "      <td>¿Si es jade, si es oro, acaso no tendrá que ir...</td>\n",
              "      <td>¿In chalchihuitl, teocuitlatl, mach ah ca on yaz?</td>\n",
              "    </tr>\n",
              "    <tr>\n",
              "      <th>2</th>\n",
              "      <td>Y cuando el Sol estuvo solo en el cielo, enseg...</td>\n",
              "      <td>Auh yn oyuh in yoca hualmotlalli tonatiuh ylhu...</td>\n",
              "    </tr>\n",
              "    <tr>\n",
              "      <th>3</th>\n",
              "      <td>Allá acudieron asimismo los señores del cabild...</td>\n",
              "      <td>Yn oncan mohuicatza yhuan yn ciudad cabildo tl...</td>\n",
              "    </tr>\n",
              "    <tr>\n",
              "      <th>4</th>\n",
              "      <td>Usos:</td>\n",
              "      <td>Kualtia:</td>\n",
              "    </tr>\n",
              "    <tr>\n",
              "      <th>...</th>\n",
              "      <td>...</td>\n",
              "      <td>...</td>\n",
              "    </tr>\n",
              "    <tr>\n",
              "      <th>20023</th>\n",
              "      <td>El Espíritu y la esposa dicen: \"¡Ven!\"El que ...</td>\n",
              "      <td>On Espíritu Santo niman isihuau on Borreguito ...</td>\n",
              "    </tr>\n",
              "    <tr>\n",
              "      <th>20024</th>\n",
              "      <td>Yo advierto a todo el que oye las palabras de...</td>\n",
              "      <td>Nemechtlachicahuilia nenmochimej yejhuan nenqu...</td>\n",
              "    </tr>\n",
              "    <tr>\n",
              "      <th>20025</th>\n",
              "      <td>y si alguno quita de las palabras del libro d...</td>\n",
              "      <td>Niman tla yacaj quipopolohuilis itemachtil Dio...</td>\n",
              "    </tr>\n",
              "    <tr>\n",
              "      <th>20026</th>\n",
              "      <td>El que da testimonio de estas cosas dice: \"¡S...</td>\n",
              "      <td>On yejhuan quipantlantia yejhua in, ijquin qui...</td>\n",
              "    </tr>\n",
              "    <tr>\n",
              "      <th>20027</th>\n",
              "      <td>La gracia de nuestro Señor Jesús sea con todos</td>\n",
              "      <td>Ma toTeco Jesucristo mechtiochihua nenmochimej...</td>\n",
              "    </tr>\n",
              "  </tbody>\n",
              "</table>\n",
              "<p>20028 rows × 2 columns</p>\n",
              "</div>\n",
              "    <div class=\"colab-df-buttons\">\n",
              "\n",
              "  <div class=\"colab-df-container\">\n",
              "    <button class=\"colab-df-convert\" onclick=\"convertToInteractive('df-dfa91f63-b195-403d-9026-1a17af8656c3')\"\n",
              "            title=\"Convert this dataframe to an interactive table.\"\n",
              "            style=\"display:none;\">\n",
              "\n",
              "  <svg xmlns=\"http://www.w3.org/2000/svg\" height=\"24px\" viewBox=\"0 -960 960 960\">\n",
              "    <path d=\"M120-120v-720h720v720H120Zm60-500h600v-160H180v160Zm220 220h160v-160H400v160Zm0 220h160v-160H400v160ZM180-400h160v-160H180v160Zm440 0h160v-160H620v160ZM180-180h160v-160H180v160Zm440 0h160v-160H620v160Z\"/>\n",
              "  </svg>\n",
              "    </button>\n",
              "\n",
              "  <style>\n",
              "    .colab-df-container {\n",
              "      display:flex;\n",
              "      gap: 12px;\n",
              "    }\n",
              "\n",
              "    .colab-df-convert {\n",
              "      background-color: #E8F0FE;\n",
              "      border: none;\n",
              "      border-radius: 50%;\n",
              "      cursor: pointer;\n",
              "      display: none;\n",
              "      fill: #1967D2;\n",
              "      height: 32px;\n",
              "      padding: 0 0 0 0;\n",
              "      width: 32px;\n",
              "    }\n",
              "\n",
              "    .colab-df-convert:hover {\n",
              "      background-color: #E2EBFA;\n",
              "      box-shadow: 0px 1px 2px rgba(60, 64, 67, 0.3), 0px 1px 3px 1px rgba(60, 64, 67, 0.15);\n",
              "      fill: #174EA6;\n",
              "    }\n",
              "\n",
              "    .colab-df-buttons div {\n",
              "      margin-bottom: 4px;\n",
              "    }\n",
              "\n",
              "    [theme=dark] .colab-df-convert {\n",
              "      background-color: #3B4455;\n",
              "      fill: #D2E3FC;\n",
              "    }\n",
              "\n",
              "    [theme=dark] .colab-df-convert:hover {\n",
              "      background-color: #434B5C;\n",
              "      box-shadow: 0px 1px 3px 1px rgba(0, 0, 0, 0.15);\n",
              "      filter: drop-shadow(0px 1px 2px rgba(0, 0, 0, 0.3));\n",
              "      fill: #FFFFFF;\n",
              "    }\n",
              "  </style>\n",
              "\n",
              "    <script>\n",
              "      const buttonEl =\n",
              "        document.querySelector('#df-dfa91f63-b195-403d-9026-1a17af8656c3 button.colab-df-convert');\n",
              "      buttonEl.style.display =\n",
              "        google.colab.kernel.accessAllowed ? 'block' : 'none';\n",
              "\n",
              "      async function convertToInteractive(key) {\n",
              "        const element = document.querySelector('#df-dfa91f63-b195-403d-9026-1a17af8656c3');\n",
              "        const dataTable =\n",
              "          await google.colab.kernel.invokeFunction('convertToInteractive',\n",
              "                                                    [key], {});\n",
              "        if (!dataTable) return;\n",
              "\n",
              "        const docLinkHtml = 'Like what you see? Visit the ' +\n",
              "          '<a target=\"_blank\" href=https://colab.research.google.com/notebooks/data_table.ipynb>data table notebook</a>'\n",
              "          + ' to learn more about interactive tables.';\n",
              "        element.innerHTML = '';\n",
              "        dataTable['output_type'] = 'display_data';\n",
              "        await google.colab.output.renderOutput(dataTable, element);\n",
              "        const docLink = document.createElement('div');\n",
              "        docLink.innerHTML = docLinkHtml;\n",
              "        element.appendChild(docLink);\n",
              "      }\n",
              "    </script>\n",
              "  </div>\n",
              "\n",
              "\n",
              "<div id=\"df-4ef8b619-507a-4336-94fe-e071194b2ea0\">\n",
              "  <button class=\"colab-df-quickchart\" onclick=\"quickchart('df-4ef8b619-507a-4336-94fe-e071194b2ea0')\"\n",
              "            title=\"Suggest charts\"\n",
              "            style=\"display:none;\">\n",
              "\n",
              "<svg xmlns=\"http://www.w3.org/2000/svg\" height=\"24px\"viewBox=\"0 0 24 24\"\n",
              "     width=\"24px\">\n",
              "    <g>\n",
              "        <path d=\"M19 3H5c-1.1 0-2 .9-2 2v14c0 1.1.9 2 2 2h14c1.1 0 2-.9 2-2V5c0-1.1-.9-2-2-2zM9 17H7v-7h2v7zm4 0h-2V7h2v10zm4 0h-2v-4h2v4z\"/>\n",
              "    </g>\n",
              "</svg>\n",
              "  </button>\n",
              "\n",
              "<style>\n",
              "  .colab-df-quickchart {\n",
              "      --bg-color: #E8F0FE;\n",
              "      --fill-color: #1967D2;\n",
              "      --hover-bg-color: #E2EBFA;\n",
              "      --hover-fill-color: #174EA6;\n",
              "      --disabled-fill-color: #AAA;\n",
              "      --disabled-bg-color: #DDD;\n",
              "  }\n",
              "\n",
              "  [theme=dark] .colab-df-quickchart {\n",
              "      --bg-color: #3B4455;\n",
              "      --fill-color: #D2E3FC;\n",
              "      --hover-bg-color: #434B5C;\n",
              "      --hover-fill-color: #FFFFFF;\n",
              "      --disabled-bg-color: #3B4455;\n",
              "      --disabled-fill-color: #666;\n",
              "  }\n",
              "\n",
              "  .colab-df-quickchart {\n",
              "    background-color: var(--bg-color);\n",
              "    border: none;\n",
              "    border-radius: 50%;\n",
              "    cursor: pointer;\n",
              "    display: none;\n",
              "    fill: var(--fill-color);\n",
              "    height: 32px;\n",
              "    padding: 0;\n",
              "    width: 32px;\n",
              "  }\n",
              "\n",
              "  .colab-df-quickchart:hover {\n",
              "    background-color: var(--hover-bg-color);\n",
              "    box-shadow: 0 1px 2px rgba(60, 64, 67, 0.3), 0 1px 3px 1px rgba(60, 64, 67, 0.15);\n",
              "    fill: var(--button-hover-fill-color);\n",
              "  }\n",
              "\n",
              "  .colab-df-quickchart-complete:disabled,\n",
              "  .colab-df-quickchart-complete:disabled:hover {\n",
              "    background-color: var(--disabled-bg-color);\n",
              "    fill: var(--disabled-fill-color);\n",
              "    box-shadow: none;\n",
              "  }\n",
              "\n",
              "  .colab-df-spinner {\n",
              "    border: 2px solid var(--fill-color);\n",
              "    border-color: transparent;\n",
              "    border-bottom-color: var(--fill-color);\n",
              "    animation:\n",
              "      spin 1s steps(1) infinite;\n",
              "  }\n",
              "\n",
              "  @keyframes spin {\n",
              "    0% {\n",
              "      border-color: transparent;\n",
              "      border-bottom-color: var(--fill-color);\n",
              "      border-left-color: var(--fill-color);\n",
              "    }\n",
              "    20% {\n",
              "      border-color: transparent;\n",
              "      border-left-color: var(--fill-color);\n",
              "      border-top-color: var(--fill-color);\n",
              "    }\n",
              "    30% {\n",
              "      border-color: transparent;\n",
              "      border-left-color: var(--fill-color);\n",
              "      border-top-color: var(--fill-color);\n",
              "      border-right-color: var(--fill-color);\n",
              "    }\n",
              "    40% {\n",
              "      border-color: transparent;\n",
              "      border-right-color: var(--fill-color);\n",
              "      border-top-color: var(--fill-color);\n",
              "    }\n",
              "    60% {\n",
              "      border-color: transparent;\n",
              "      border-right-color: var(--fill-color);\n",
              "    }\n",
              "    80% {\n",
              "      border-color: transparent;\n",
              "      border-right-color: var(--fill-color);\n",
              "      border-bottom-color: var(--fill-color);\n",
              "    }\n",
              "    90% {\n",
              "      border-color: transparent;\n",
              "      border-bottom-color: var(--fill-color);\n",
              "    }\n",
              "  }\n",
              "</style>\n",
              "\n",
              "  <script>\n",
              "    async function quickchart(key) {\n",
              "      const quickchartButtonEl =\n",
              "        document.querySelector('#' + key + ' button');\n",
              "      quickchartButtonEl.disabled = true;  // To prevent multiple clicks.\n",
              "      quickchartButtonEl.classList.add('colab-df-spinner');\n",
              "      try {\n",
              "        const charts = await google.colab.kernel.invokeFunction(\n",
              "            'suggestCharts', [key], {});\n",
              "      } catch (error) {\n",
              "        console.error('Error during call to suggestCharts:', error);\n",
              "      }\n",
              "      quickchartButtonEl.classList.remove('colab-df-spinner');\n",
              "      quickchartButtonEl.classList.add('colab-df-quickchart-complete');\n",
              "    }\n",
              "    (() => {\n",
              "      let quickchartButtonEl =\n",
              "        document.querySelector('#df-4ef8b619-507a-4336-94fe-e071194b2ea0 button');\n",
              "      quickchartButtonEl.style.display =\n",
              "        google.colab.kernel.accessAllowed ? 'block' : 'none';\n",
              "    })();\n",
              "  </script>\n",
              "</div>\n",
              "\n",
              "  <div id=\"id_bd9e984b-76bd-4dab-8def-d117113cbc0c\">\n",
              "    <style>\n",
              "      .colab-df-generate {\n",
              "        background-color: #E8F0FE;\n",
              "        border: none;\n",
              "        border-radius: 50%;\n",
              "        cursor: pointer;\n",
              "        display: none;\n",
              "        fill: #1967D2;\n",
              "        height: 32px;\n",
              "        padding: 0 0 0 0;\n",
              "        width: 32px;\n",
              "      }\n",
              "\n",
              "      .colab-df-generate:hover {\n",
              "        background-color: #E2EBFA;\n",
              "        box-shadow: 0px 1px 2px rgba(60, 64, 67, 0.3), 0px 1px 3px 1px rgba(60, 64, 67, 0.15);\n",
              "        fill: #174EA6;\n",
              "      }\n",
              "\n",
              "      [theme=dark] .colab-df-generate {\n",
              "        background-color: #3B4455;\n",
              "        fill: #D2E3FC;\n",
              "      }\n",
              "\n",
              "      [theme=dark] .colab-df-generate:hover {\n",
              "        background-color: #434B5C;\n",
              "        box-shadow: 0px 1px 3px 1px rgba(0, 0, 0, 0.15);\n",
              "        filter: drop-shadow(0px 1px 2px rgba(0, 0, 0, 0.3));\n",
              "        fill: #FFFFFF;\n",
              "      }\n",
              "    </style>\n",
              "    <button class=\"colab-df-generate\" onclick=\"generateWithVariable('df')\"\n",
              "            title=\"Generate code using this dataframe.\"\n",
              "            style=\"display:none;\">\n",
              "\n",
              "  <svg xmlns=\"http://www.w3.org/2000/svg\" height=\"24px\"viewBox=\"0 0 24 24\"\n",
              "       width=\"24px\">\n",
              "    <path d=\"M7,19H8.4L18.45,9,17,7.55,7,17.6ZM5,21V16.75L18.45,3.32a2,2,0,0,1,2.83,0l1.4,1.43a1.91,1.91,0,0,1,.58,1.4,1.91,1.91,0,0,1-.58,1.4L9.25,21ZM18.45,9,17,7.55Zm-12,3A5.31,5.31,0,0,0,4.9,8.1,5.31,5.31,0,0,0,1,6.5,5.31,5.31,0,0,0,4.9,4.9,5.31,5.31,0,0,0,6.5,1,5.31,5.31,0,0,0,8.1,4.9,5.31,5.31,0,0,0,12,6.5,5.46,5.46,0,0,0,6.5,12Z\"/>\n",
              "  </svg>\n",
              "    </button>\n",
              "    <script>\n",
              "      (() => {\n",
              "      const buttonEl =\n",
              "        document.querySelector('#id_bd9e984b-76bd-4dab-8def-d117113cbc0c button.colab-df-generate');\n",
              "      buttonEl.style.display =\n",
              "        google.colab.kernel.accessAllowed ? 'block' : 'none';\n",
              "\n",
              "      buttonEl.onclick = () => {\n",
              "        google.colab.notebook.generateWithVariable('df');\n",
              "      }\n",
              "      })();\n",
              "    </script>\n",
              "  </div>\n",
              "\n",
              "    </div>\n",
              "  </div>\n"
            ],
            "application/vnd.google.colaboratory.intrinsic+json": {
              "type": "dataframe",
              "variable_name": "df",
              "summary": "{\n  \"name\": \"df\",\n  \"rows\": 20028,\n  \"fields\": [\n    {\n      \"column\": \"spanish\",\n      \"properties\": {\n        \"dtype\": \"string\",\n        \"num_unique_values\": 18877,\n        \"samples\": [\n          \"\\u00bfQuieres a este muchacho?\",\n          \" Ahora bien, hermanos, vosotros sois hijos de la promesa tal como Isaac\",\n          \" Por la fe Abraham, cuando fue probado, ofreci\\u00f3 a Isaac.El que hab\\u00eda recibido las promesas ofrec\\u00eda a su hijo \\u00fanico\"\n        ],\n        \"semantic_type\": \"\",\n        \"description\": \"\"\n      }\n    },\n    {\n      \"column\": \"nahuatl\",\n      \"properties\": {\n        \"dtype\": \"string\",\n        \"num_unique_values\": 18942,\n        \"samples\": [\n          \"Tiyazque ye ichan\",\n          \"Auh inic onicpolo in tlacpac oncan no ninotlapololti auh nican nictlalia in huel neltiliztli in Maria Xoco yllamatzin in ipillo ytoca catca Anan Tlaco huecapa ypilo auh niman no hualla Miguel Ocelotl oquimonamicti Anan Tlaco auh niman oncan otlacat Maria Anan auh niman no quimonamictico in Pedro Luys chane Quauhchinanco zan ce in iconeuh oquichtli ytoca Estevan omomiquili auh cepa oquimonamictin yn itoca Magdalena auh niman no momiquili in Pedro Luys Quauhchinanco yc nictlalia nofirma Diego Leonardo escribano.\",\n          \"Amotlen mahuiztic.\"\n        ],\n        \"semantic_type\": \"\",\n        \"description\": \"\"\n      }\n    }\n  ]\n}"
            }
          },
          "metadata": {},
          "execution_count": 45
        }
      ]
    },
    {
      "cell_type": "markdown",
      "source": [
        "Tamaño del dataset"
      ],
      "metadata": {
        "id": "p_-XmDZOP440"
      }
    },
    {
      "cell_type": "code",
      "source": [
        "print(\"Shape of dataset\", df.shape)"
      ],
      "metadata": {
        "colab": {
          "base_uri": "https://localhost:8080/"
        },
        "id": "lhrd3LhaP3If",
        "outputId": "cf34b1bc-603d-455f-97a0-9a8770c04653"
      },
      "execution_count": null,
      "outputs": [
        {
          "output_type": "stream",
          "name": "stdout",
          "text": [
            "Shape of dataset (20028, 2)\n"
          ]
        }
      ]
    },
    {
      "cell_type": "markdown",
      "source": [
        "¿Hay valores faltantes en el conjunto de datos?"
      ],
      "metadata": {
        "id": "WJ45u8giPLMH"
      }
    },
    {
      "cell_type": "code",
      "source": [
        "print(df.isnull().sum())\n",
        "\n",
        "missing_data_rows = df[df.isnull().any(axis=1)]\n",
        "\n",
        "print(missing_data_rows)"
      ],
      "metadata": {
        "colab": {
          "base_uri": "https://localhost:8080/"
        },
        "id": "z_-GvQhqN5mY",
        "outputId": "c77cbd30-6d4e-4ad2-c6fc-93ae55511bb3"
      },
      "execution_count": null,
      "outputs": [
        {
          "output_type": "stream",
          "name": "stdout",
          "text": [
            "spanish    4\n",
            "nahuatl    4\n",
            "dtype: int64\n",
            "     spanish nahuatl\n",
            "2444     NaN     NaN\n",
            "4524     NaN     NaN\n",
            "5399     NaN     NaN\n",
            "8400     NaN     NaN\n"
          ]
        }
      ]
    },
    {
      "cell_type": "markdown",
      "source": [
        "Remover filas con valores faltantes. Decidimos remover las filas debido a que nuestro objetivo es realizar traduccion y no tendría sentido utilizar los datos si no tenemos su traduccion en español o nahuatl. Además en este caso podemos ver que tenemos valores faltantes en ambas columnas entonces no hay datos tanto en español como en nahuatl. Al eliminar las filas no hay perdida de datos."
      ],
      "metadata": {
        "id": "FsIPGiaLaphH"
      }
    },
    {
      "cell_type": "code",
      "source": [
        "df = df.dropna(axis=0, how='any')"
      ],
      "metadata": {
        "id": "nh-qQX7lZN6E"
      },
      "execution_count": null,
      "outputs": []
    },
    {
      "cell_type": "code",
      "source": [
        "print(df.isnull().sum())"
      ],
      "metadata": {
        "colab": {
          "base_uri": "https://localhost:8080/"
        },
        "id": "7U8DU5zuZYRV",
        "outputId": "06408d0d-fbde-4b48-ec7b-3ab3d131f2cb"
      },
      "execution_count": null,
      "outputs": [
        {
          "output_type": "stream",
          "name": "stdout",
          "text": [
            "spanish    0\n",
            "nahuatl    0\n",
            "dtype: int64\n"
          ]
        }
      ]
    },
    {
      "cell_type": "markdown",
      "source": [
        "Cambiamos el tipo de dato a string ya que estamos trabajando con cadenas de texto"
      ],
      "metadata": {
        "id": "xJlu5H6-bNeA"
      }
    },
    {
      "cell_type": "code",
      "source": [
        "df = df.astype(str)"
      ],
      "metadata": {
        "id": "EHqSmY1oYeJh"
      },
      "execution_count": null,
      "outputs": []
    },
    {
      "cell_type": "markdown",
      "source": [
        "Visualizacion de distribución de tamaño de las oraciones"
      ],
      "metadata": {
        "id": "cp0IWn8obToK"
      }
    },
    {
      "cell_type": "code",
      "source": [
        "df_spanish_len = df['spanish'].str.split().str.len()\n",
        "df_nahuatl_len = df['nahuatl'].str.split().str.len()V\n",
        "\n",
        "plt.figure(figsize=(10, 5))\n",
        "plt.subplot(1, 2, 1)\n",
        "sns.histplot(df_spanish_len, bins=50)\n",
        "plt.title(\"Spanish Sentence Length Distribution\")\n",
        "plt.xlabel(\"Number of Words\")\n",
        "plt.ylabel(\"Frequency\")\n",
        "\n",
        "plt.subplot(1, 2, 2)\n",
        "sns.histplot(df_nahuatl_len, bins=50)\n",
        "plt.title(\"Nahuatl Sentence Length Distribution\")\n",
        "plt.xlabel(\"Number of Words\")\n",
        "plt.ylabel(\"Frequency\")\n",
        "plt.show()"
      ],
      "metadata": {
        "colab": {
          "base_uri": "https://localhost:8080/",
          "height": 487
        },
        "id": "r1zM9QdGXIk3",
        "outputId": "c0bc9d1a-0555-4305-e155-77efdc8f41f3"
      },
      "execution_count": null,
      "outputs": [
        {
          "output_type": "display_data",
          "data": {
            "text/plain": [
              "<Figure size 1000x500 with 2 Axes>"
            ],
            "image/png": "[encoded data removed]"
          },
          "metadata": {}
        }
      ]
    },
    {
      "cell_type": "markdown",
      "source": [
        "Distribucion de palabras unicas"
      ],
      "metadata": {
        "id": "Rm1njvqtbcoA"
      }
    },
    {
      "cell_type": "code",
      "source": [
        "df_spanish_words = df['spanish'].str.split()\n",
        "df_nahuatl_words = df['nahuatl'].str.split()\n",
        "\n",
        "unique_spanish_words = set(word for sublist in df_spanish_words.tolist() for word in sublist)\n",
        "unique_nahuatl_words = set(word for sublist in df_nahuatl_words.tolist() for word in sublist)\n",
        "\n",
        "data = {'Language': ['Spanish', 'Nahuatl'],\n",
        "        'Unique Words': [len(unique_spanish_words), len(unique_nahuatl_words)]}\n",
        "unique_words_df = pd.DataFrame(data)\n",
        "\n",
        "sns.barplot(x='Language', y='Unique Words', data=unique_words_df)\n",
        "plt.title(\"Number of Unique Words\")\n",
        "plt.show()"
      ],
      "metadata": {
        "colab": {
          "base_uri": "https://localhost:8080/",
          "height": 472
        },
        "id": "eQZZ3BhrXiDI",
        "outputId": "9a63f23c-4799-4122-fc04-29382cb99392"
      },
      "execution_count": null,
      "outputs": [
        {
          "output_type": "display_data",
          "data": {
            "text/plain": [
              "<Figure size 640x480 with 1 Axes>"
            ],
            "image/png": "[encoded data removed]"
          },
          "metadata": {}
        }
      ]
    },
    {
      "cell_type": "markdown",
      "source": [
        "Visualizacion de la frecuencia de las 10 palabras más comunes"
      ],
      "metadata": {
        "id": "1h-lX82DbgEt"
      }
    },
    {
      "cell_type": "code",
      "source": [
        "all_spanish_words = [word for sublist in df_spanish_words.tolist() for word in sublist]\n",
        "all_nahuatl_words = [word for sublist in df_nahuatl_words.tolist() for word in sublist]\n",
        "\n",
        "top_n = 10\n",
        "freq_spanish = Counter(all_spanish_words).most_common(top_n)\n",
        "freq_nahuatl = Counter(all_nahuatl_words).most_common(top_n)\n",
        "\n",
        "spanish_freq_df = pd.DataFrame(freq_spanish, columns=['Word', 'Frequency'])\n",
        "nahuatl_freq_df = pd.DataFrame(freq_nahuatl, columns=['Word', 'Frequency'])\n",
        "\n",
        "plt.figure(figsize=(12, 5))\n",
        "plt.subplot(1, 2, 1)\n",
        "sns.barplot(x='Word', y='Frequency', data=spanish_freq_df)\n",
        "plt.title(\"Top 10 Most Frequent Words in Spanish\")\n",
        "plt.xticks(rotation=45)\n",
        "\n",
        "plt.subplot(1, 2, 2)\n",
        "sns.barplot(x='Word', y='Frequency', data=nahuatl_freq_df)\n",
        "plt.title(\"Top 10 Most Frequent Words in Nahuatl\")\n",
        "plt.xticks(rotation=45)\n",
        "\n",
        "plt.show()"
      ],
      "metadata": {
        "colab": {
          "base_uri": "https://localhost:8080/",
          "height": 522
        },
        "id": "TrNN918GYn41",
        "outputId": "a4890630-19d6-459f-e399-9203669f7192"
      },
      "execution_count": null,
      "outputs": [
        {
          "output_type": "display_data",
          "data": {
            "text/plain": [
              "<Figure size 1200x500 with 2 Axes>"
            ],
            "image/png": "[encoded data removed]"
          },
          "metadata": {}
        }
      ]
    }
  ]
}